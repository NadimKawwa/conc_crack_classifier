{
 "cells": [
  {
   "cell_type": "code",
   "execution_count": 2,
   "metadata": {},
   "outputs": [],
   "source": [
    "import os\n",
    "import numpy as np\n",
    "import shutil"
   ]
  },
  {
   "cell_type": "markdown",
   "metadata": {},
   "source": [
    "For reference is this post on stackoverflow:\n",
    "\n",
    "https://stackoverflow.com/questions/53074712/how-to-split-folder-of-images-into-test-training-validation-sets-with-stratified"
   ]
  },
  {
   "cell_type": "code",
   "execution_count": 3,
   "metadata": {},
   "outputs": [],
   "source": [
    "#root directory\n",
    "root_dir = 'raw_data'\n",
    "\n",
    "#create new directory to paste data in\n",
    "new_dir = 'data'\n",
    "if not os.path.exists(new_dir):\n",
    "    os.makedirs(new_dir)\n",
    "\n",
    "#create directory train/val/test folders\n",
    "pos_class = '/Positive'\n",
    "neg_class = '/Negative'\n",
    "\n",
    "#possible paths\n",
    "new_paths = ['/train', '/val', '/test']\n",
    "#possible classes\n",
    "cls = [pos_class, neg_class]\n",
    "\n",
    "#make folders if not existing already\n",
    "for path in new_paths:\n",
    "    for cl in cls:\n",
    "        directory = new_dir + path + cl\n",
    "        if not os.path.exists(directory):\n",
    "            os.makedirs(directory)"
   ]
  },
  {
   "cell_type": "code",
   "execution_count": 7,
   "metadata": {},
   "outputs": [
    {
     "name": "stdout",
     "output_type": "stream",
     "text": [
      "Total images in /Positive:  20000\n",
      "Training:  14000\n",
      "Validation:  3000\n",
      "Testing:  3000\n",
      "Total images in /Negative:  20000\n",
      "Training:  14000\n",
      "Validation:  3000\n",
      "Testing:  3000\n"
     ]
    }
   ],
   "source": [
    "for cl in cls:\n",
    "    #folder to copy images from\n",
    "    src = root_dir + cl\n",
    "    \n",
    "    #get all file names + shuffle\n",
    "    allFileNames = os.listdir(src)\n",
    "    np.random.shuffle(allFileNames)\n",
    "\n",
    "    #split names\n",
    "    train_img, val_img, test_img = np.split(np.array(allFileNames),\n",
    "                                            [int(len(allFileNames)*0.7),\n",
    "                                             int(len(allFileNames)*0.85)]\n",
    "                                                         )\n",
    "    ##get the filenames\n",
    "    train_FileNames = [src+'/'+ name for name in train_img]\n",
    "    val_FileNames = [src+'/' + name for name in val_img]\n",
    "    test_FileNames = [src+'/' + name for name in test_img]\n",
    "    \n",
    "    #print progress\n",
    "    print('Total images in {}: '.format(cl), len(allFileNames))\n",
    "    print('Training: ', len(train_FileNames))\n",
    "    print('Validation: ', len(val_FileNames))\n",
    "    print('Testing: ', len(test_FileNames))\n",
    "    \n",
    "    split_FileNames = [train_FileNames, val_FileNames, test_FileNames]\n",
    "\n",
    "    \n",
    "    \n",
    "    # Copy-pasting images\n",
    "    for name in train_FileNames:\n",
    "        shutil.copy(name, \"data/train\"+cl)\n",
    "\n",
    "    for name in val_FileNames:\n",
    "        shutil.copy(name, \"data/val\"+cl)\n",
    "\n",
    "    for name in test_FileNames:\n",
    "        shutil.copy(name, \"data/test\"+cl)\n",
    "    \n",
    "    "
   ]
  },
  {
   "cell_type": "code",
   "execution_count": null,
   "metadata": {},
   "outputs": [],
   "source": []
  }
 ],
 "metadata": {
  "kernelspec": {
   "display_name": "Python 3",
   "language": "python",
   "name": "python3"
  },
  "language_info": {
   "codemirror_mode": {
    "name": "ipython",
    "version": 3
   },
   "file_extension": ".py",
   "mimetype": "text/x-python",
   "name": "python",
   "nbconvert_exporter": "python",
   "pygments_lexer": "ipython3",
   "version": "3.7.3"
  }
 },
 "nbformat": 4,
 "nbformat_minor": 2
}
